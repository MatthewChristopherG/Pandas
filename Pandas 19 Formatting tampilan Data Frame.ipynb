{
 "cells": [
  {
   "cell_type": "markdown",
   "id": "22bfa7dd",
   "metadata": {},
   "source": [
    "# Import Modules"
   ]
  },
  {
   "cell_type": "code",
   "execution_count": 1,
   "id": "51f5633f",
   "metadata": {},
   "outputs": [
    {
     "name": "stdout",
     "output_type": "stream",
     "text": [
      "1.3.4\n",
      "1.20.3\n"
     ]
    }
   ],
   "source": [
    "import pandas as pd\n",
    "import numpy as np\n",
    "\n",
    "print(pd.__version__)\n",
    "print(np.__version__)"
   ]
  },
  {
   "cell_type": "markdown",
   "id": "db1adebf",
   "metadata": {},
   "source": [
    "# Persiapan Data Frame"
   ]
  },
  {
   "cell_type": "code",
   "execution_count": 5,
   "id": "4b2eecfb",
   "metadata": {},
   "outputs": [
    {
     "data": {
      "text/html": [
       "<div>\n",
       "<style scoped>\n",
       "    .dataframe tbody tr th:only-of-type {\n",
       "        vertical-align: middle;\n",
       "    }\n",
       "\n",
       "    .dataframe tbody tr th {\n",
       "        vertical-align: top;\n",
       "    }\n",
       "\n",
       "    .dataframe thead th {\n",
       "        text-align: right;\n",
       "    }\n",
       "</style>\n",
       "<table border=\"1\" class=\"dataframe\">\n",
       "  <thead>\n",
       "    <tr style=\"text-align: right;\">\n",
       "      <th></th>\n",
       "      <th>omset</th>\n",
       "      <th>operasional</th>\n",
       "    </tr>\n",
       "  </thead>\n",
       "  <tbody>\n",
       "    <tr>\n",
       "      <th>0</th>\n",
       "      <td>11</td>\n",
       "      <td>5</td>\n",
       "    </tr>\n",
       "    <tr>\n",
       "      <th>1</th>\n",
       "      <td>8</td>\n",
       "      <td>1</td>\n",
       "    </tr>\n",
       "    <tr>\n",
       "      <th>2</th>\n",
       "      <td>3</td>\n",
       "      <td>5</td>\n",
       "    </tr>\n",
       "    <tr>\n",
       "      <th>3</th>\n",
       "      <td>14</td>\n",
       "      <td>2</td>\n",
       "    </tr>\n",
       "    <tr>\n",
       "      <th>4</th>\n",
       "      <td>5</td>\n",
       "      <td>15</td>\n",
       "    </tr>\n",
       "  </tbody>\n",
       "</table>\n",
       "</div>"
      ],
      "text/plain": [
       "   omset  operasional\n",
       "0     11            5\n",
       "1      8            1\n",
       "2      3            5\n",
       "3     14            2\n",
       "4      5           15"
      ]
     },
     "execution_count": 5,
     "metadata": {},
     "output_type": "execute_result"
    }
   ],
   "source": [
    "n_rows = 5\n",
    "n_cols = 2\n",
    "cols = ['omset', 'operasional']\n",
    "\n",
    "df = pd.DataFrame(np.random.randint(1, 20, size=(n_rows, n_cols)),\n",
    "                   columns=cols)\n",
    "df"
   ]
  },
  {
   "cell_type": "code",
   "execution_count": 6,
   "id": "e91eb7c2",
   "metadata": {},
   "outputs": [
    {
     "data": {
      "text/html": [
       "<div>\n",
       "<style scoped>\n",
       "    .dataframe tbody tr th:only-of-type {\n",
       "        vertical-align: middle;\n",
       "    }\n",
       "\n",
       "    .dataframe tbody tr th {\n",
       "        vertical-align: top;\n",
       "    }\n",
       "\n",
       "    .dataframe thead th {\n",
       "        text-align: right;\n",
       "    }\n",
       "</style>\n",
       "<table border=\"1\" class=\"dataframe\">\n",
       "  <thead>\n",
       "    <tr style=\"text-align: right;\">\n",
       "      <th></th>\n",
       "      <th>omset</th>\n",
       "      <th>operasional</th>\n",
       "    </tr>\n",
       "  </thead>\n",
       "  <tbody>\n",
       "    <tr>\n",
       "      <th>0</th>\n",
       "      <td>1100000</td>\n",
       "      <td>50000</td>\n",
       "    </tr>\n",
       "    <tr>\n",
       "      <th>1</th>\n",
       "      <td>800000</td>\n",
       "      <td>10000</td>\n",
       "    </tr>\n",
       "    <tr>\n",
       "      <th>2</th>\n",
       "      <td>300000</td>\n",
       "      <td>50000</td>\n",
       "    </tr>\n",
       "    <tr>\n",
       "      <th>3</th>\n",
       "      <td>1400000</td>\n",
       "      <td>20000</td>\n",
       "    </tr>\n",
       "    <tr>\n",
       "      <th>4</th>\n",
       "      <td>500000</td>\n",
       "      <td>150000</td>\n",
       "    </tr>\n",
       "  </tbody>\n",
       "</table>\n",
       "</div>"
      ],
      "text/plain": [
       "     omset  operasional\n",
       "0  1100000        50000\n",
       "1   800000        10000\n",
       "2   300000        50000\n",
       "3  1400000        20000\n",
       "4   500000       150000"
      ]
     },
     "execution_count": 6,
     "metadata": {},
     "output_type": "execute_result"
    }
   ],
   "source": [
    "df['omset'] = df['omset'] * 100_000\n",
    "df['operasional'] = df['operasional'] * 10_000\n",
    "df"
   ]
  },
  {
   "cell_type": "code",
   "execution_count": 7,
   "id": "51f84ef4",
   "metadata": {},
   "outputs": [
    {
     "name": "stderr",
     "output_type": "stream",
     "text": [
      "D:\\Marnat\\KULIAH\\Semester 2\\Statistika Bisnis\\Annaconda\\lib\\site-packages\\pandas\\util\\__init__.py:15: FutureWarning: pandas.util.testing is deprecated. Use the functions in the public API at pandas.testing instead.\n",
      "  import pandas.util.testing\n"
     ]
    },
    {
     "data": {
      "text/html": [
       "<div>\n",
       "<style scoped>\n",
       "    .dataframe tbody tr th:only-of-type {\n",
       "        vertical-align: middle;\n",
       "    }\n",
       "\n",
       "    .dataframe tbody tr th {\n",
       "        vertical-align: top;\n",
       "    }\n",
       "\n",
       "    .dataframe thead th {\n",
       "        text-align: right;\n",
       "    }\n",
       "</style>\n",
       "<table border=\"1\" class=\"dataframe\">\n",
       "  <thead>\n",
       "    <tr style=\"text-align: right;\">\n",
       "      <th></th>\n",
       "      <th>tanggal</th>\n",
       "      <th>omset</th>\n",
       "      <th>operasional</th>\n",
       "    </tr>\n",
       "  </thead>\n",
       "  <tbody>\n",
       "    <tr>\n",
       "      <th>0</th>\n",
       "      <td>2000-01-01</td>\n",
       "      <td>1100000</td>\n",
       "      <td>50000</td>\n",
       "    </tr>\n",
       "    <tr>\n",
       "      <th>1</th>\n",
       "      <td>2000-01-02</td>\n",
       "      <td>800000</td>\n",
       "      <td>10000</td>\n",
       "    </tr>\n",
       "    <tr>\n",
       "      <th>2</th>\n",
       "      <td>2000-01-03</td>\n",
       "      <td>300000</td>\n",
       "      <td>50000</td>\n",
       "    </tr>\n",
       "    <tr>\n",
       "      <th>3</th>\n",
       "      <td>2000-01-04</td>\n",
       "      <td>1400000</td>\n",
       "      <td>20000</td>\n",
       "    </tr>\n",
       "    <tr>\n",
       "      <th>4</th>\n",
       "      <td>2000-01-05</td>\n",
       "      <td>500000</td>\n",
       "      <td>150000</td>\n",
       "    </tr>\n",
       "  </tbody>\n",
       "</table>\n",
       "</div>"
      ],
      "text/plain": [
       "     tanggal    omset  operasional\n",
       "0 2000-01-01  1100000        50000\n",
       "1 2000-01-02   800000        10000\n",
       "2 2000-01-03   300000        50000\n",
       "3 2000-01-04  1400000        20000\n",
       "4 2000-01-05   500000       150000"
      ]
     },
     "execution_count": 7,
     "metadata": {},
     "output_type": "execute_result"
    }
   ],
   "source": [
    "df.index = pd.util.testing.makeDateIndex(n_rows, freq='D')\n",
    "df = df.reset_index()\n",
    "df = df.rename(columns={'index':'tanggal'})\n",
    "df"
   ]
  },
  {
   "cell_type": "markdown",
   "id": "8d9a6658",
   "metadata": {},
   "source": [
    "# Melakukan formatting tampilan Data Frame"
   ]
  },
  {
   "cell_type": "code",
   "execution_count": 11,
   "id": "4033acae",
   "metadata": {},
   "outputs": [
    {
     "data": {
      "text/html": [
       "<style type=\"text/css\">\n",
       "</style>\n",
       "<table id=\"T_1783b_\">\n",
       "  <thead>\n",
       "    <tr>\n",
       "      <th class=\"blank level0\" >&nbsp;</th>\n",
       "      <th class=\"col_heading level0 col0\" >tanggal</th>\n",
       "      <th class=\"col_heading level0 col1\" >omset</th>\n",
       "      <th class=\"col_heading level0 col2\" >operasional</th>\n",
       "    </tr>\n",
       "  </thead>\n",
       "  <tbody>\n",
       "    <tr>\n",
       "      <th id=\"T_1783b_level0_row0\" class=\"row_heading level0 row0\" >0</th>\n",
       "      <td id=\"T_1783b_row0_col0\" class=\"data row0 col0\" >01/01/00</td>\n",
       "      <td id=\"T_1783b_row0_col1\" class=\"data row0 col1\" >Rp 1100000.00</td>\n",
       "      <td id=\"T_1783b_row0_col2\" class=\"data row0 col2\" >Rp 50000.00)</td>\n",
       "    </tr>\n",
       "    <tr>\n",
       "      <th id=\"T_1783b_level0_row1\" class=\"row_heading level0 row1\" >1</th>\n",
       "      <td id=\"T_1783b_row1_col0\" class=\"data row1 col0\" >02/01/00</td>\n",
       "      <td id=\"T_1783b_row1_col1\" class=\"data row1 col1\" >Rp 800000.00</td>\n",
       "      <td id=\"T_1783b_row1_col2\" class=\"data row1 col2\" >Rp 10000.00)</td>\n",
       "    </tr>\n",
       "    <tr>\n",
       "      <th id=\"T_1783b_level0_row2\" class=\"row_heading level0 row2\" >2</th>\n",
       "      <td id=\"T_1783b_row2_col0\" class=\"data row2 col0\" >03/01/00</td>\n",
       "      <td id=\"T_1783b_row2_col1\" class=\"data row2 col1\" >Rp 300000.00</td>\n",
       "      <td id=\"T_1783b_row2_col2\" class=\"data row2 col2\" >Rp 50000.00)</td>\n",
       "    </tr>\n",
       "    <tr>\n",
       "      <th id=\"T_1783b_level0_row3\" class=\"row_heading level0 row3\" >3</th>\n",
       "      <td id=\"T_1783b_row3_col0\" class=\"data row3 col0\" >04/01/00</td>\n",
       "      <td id=\"T_1783b_row3_col1\" class=\"data row3 col1\" >Rp 1400000.00</td>\n",
       "      <td id=\"T_1783b_row3_col2\" class=\"data row3 col2\" >Rp 20000.00)</td>\n",
       "    </tr>\n",
       "    <tr>\n",
       "      <th id=\"T_1783b_level0_row4\" class=\"row_heading level0 row4\" >4</th>\n",
       "      <td id=\"T_1783b_row4_col0\" class=\"data row4 col0\" >05/01/00</td>\n",
       "      <td id=\"T_1783b_row4_col1\" class=\"data row4 col1\" >Rp 500000.00</td>\n",
       "      <td id=\"T_1783b_row4_col2\" class=\"data row4 col2\" >Rp 150000.00)</td>\n",
       "    </tr>\n",
       "  </tbody>\n",
       "</table>\n"
      ],
      "text/plain": [
       "<pandas.io.formats.style.Styler at 0x19784b66910>"
      ]
     },
     "execution_count": 11,
     "metadata": {},
     "output_type": "execute_result"
    }
   ],
   "source": [
    "formatku = {'tanggal':'{:%d/%m/%y}',\n",
    "           'operasional':'Rp {:.2f})',\n",
    "           'omset':'Rp {:.2f}'}\n",
    "\n",
    "laporan = df.style.format(formatku)\n",
    "laporan"
   ]
  },
  {
   "cell_type": "code",
   "execution_count": 12,
   "id": "d29b3f2a",
   "metadata": {},
   "outputs": [
    {
     "data": {
      "text/plain": [
       "pandas.io.formats.style.Styler"
      ]
     },
     "execution_count": 12,
     "metadata": {},
     "output_type": "execute_result"
    }
   ],
   "source": [
    "type(laporan)"
   ]
  },
  {
   "cell_type": "code",
   "execution_count": 13,
   "id": "0007a97a",
   "metadata": {},
   "outputs": [
    {
     "data": {
      "text/html": [
       "<style type=\"text/css\">\n",
       "</style>\n",
       "<table id=\"T_1783b_\">\n",
       "  <thead>\n",
       "    <tr>\n",
       "      <th class=\"col_heading level0 col0\" >tanggal</th>\n",
       "      <th class=\"col_heading level0 col1\" >omset</th>\n",
       "      <th class=\"col_heading level0 col2\" >operasional</th>\n",
       "    </tr>\n",
       "  </thead>\n",
       "  <tbody>\n",
       "    <tr>\n",
       "      <td id=\"T_1783b_row0_col0\" class=\"data row0 col0\" >01/01/00</td>\n",
       "      <td id=\"T_1783b_row0_col1\" class=\"data row0 col1\" >Rp 1100000.00</td>\n",
       "      <td id=\"T_1783b_row0_col2\" class=\"data row0 col2\" >Rp 50000.00)</td>\n",
       "    </tr>\n",
       "    <tr>\n",
       "      <td id=\"T_1783b_row1_col0\" class=\"data row1 col0\" >02/01/00</td>\n",
       "      <td id=\"T_1783b_row1_col1\" class=\"data row1 col1\" >Rp 800000.00</td>\n",
       "      <td id=\"T_1783b_row1_col2\" class=\"data row1 col2\" >Rp 10000.00)</td>\n",
       "    </tr>\n",
       "    <tr>\n",
       "      <td id=\"T_1783b_row2_col0\" class=\"data row2 col0\" >03/01/00</td>\n",
       "      <td id=\"T_1783b_row2_col1\" class=\"data row2 col1\" >Rp 300000.00</td>\n",
       "      <td id=\"T_1783b_row2_col2\" class=\"data row2 col2\" >Rp 50000.00)</td>\n",
       "    </tr>\n",
       "    <tr>\n",
       "      <td id=\"T_1783b_row3_col0\" class=\"data row3 col0\" >04/01/00</td>\n",
       "      <td id=\"T_1783b_row3_col1\" class=\"data row3 col1\" >Rp 1400000.00</td>\n",
       "      <td id=\"T_1783b_row3_col2\" class=\"data row3 col2\" >Rp 20000.00)</td>\n",
       "    </tr>\n",
       "    <tr>\n",
       "      <td id=\"T_1783b_row4_col0\" class=\"data row4 col0\" >05/01/00</td>\n",
       "      <td id=\"T_1783b_row4_col1\" class=\"data row4 col1\" >Rp 500000.00</td>\n",
       "      <td id=\"T_1783b_row4_col2\" class=\"data row4 col2\" >Rp 150000.00)</td>\n",
       "    </tr>\n",
       "  </tbody>\n",
       "</table>\n"
      ],
      "text/plain": [
       "<pandas.io.formats.style.Styler at 0x19784b66910>"
      ]
     },
     "execution_count": 13,
     "metadata": {},
     "output_type": "execute_result"
    }
   ],
   "source": [
    "laporan.hide_index()"
   ]
  },
  {
   "cell_type": "code",
   "execution_count": 16,
   "id": "37177807",
   "metadata": {},
   "outputs": [
    {
     "data": {
      "text/html": [
       "<style type=\"text/css\">\n",
       "</style>\n",
       "<table id=\"T_1783b_\">\n",
       "  <caption>Data omset dan Operasional</caption>\n",
       "  <thead>\n",
       "    <tr>\n",
       "      <th class=\"col_heading level0 col0\" >tanggal</th>\n",
       "      <th class=\"col_heading level0 col1\" >omset</th>\n",
       "      <th class=\"col_heading level0 col2\" >operasional</th>\n",
       "    </tr>\n",
       "  </thead>\n",
       "  <tbody>\n",
       "    <tr>\n",
       "      <td id=\"T_1783b_row0_col0\" class=\"data row0 col0\" >01/01/00</td>\n",
       "      <td id=\"T_1783b_row0_col1\" class=\"data row0 col1\" >Rp 1100000.00</td>\n",
       "      <td id=\"T_1783b_row0_col2\" class=\"data row0 col2\" >Rp 50000.00)</td>\n",
       "    </tr>\n",
       "    <tr>\n",
       "      <td id=\"T_1783b_row1_col0\" class=\"data row1 col0\" >02/01/00</td>\n",
       "      <td id=\"T_1783b_row1_col1\" class=\"data row1 col1\" >Rp 800000.00</td>\n",
       "      <td id=\"T_1783b_row1_col2\" class=\"data row1 col2\" >Rp 10000.00)</td>\n",
       "    </tr>\n",
       "    <tr>\n",
       "      <td id=\"T_1783b_row2_col0\" class=\"data row2 col0\" >03/01/00</td>\n",
       "      <td id=\"T_1783b_row2_col1\" class=\"data row2 col1\" >Rp 300000.00</td>\n",
       "      <td id=\"T_1783b_row2_col2\" class=\"data row2 col2\" >Rp 50000.00)</td>\n",
       "    </tr>\n",
       "    <tr>\n",
       "      <td id=\"T_1783b_row3_col0\" class=\"data row3 col0\" >04/01/00</td>\n",
       "      <td id=\"T_1783b_row3_col1\" class=\"data row3 col1\" >Rp 1400000.00</td>\n",
       "      <td id=\"T_1783b_row3_col2\" class=\"data row3 col2\" >Rp 20000.00)</td>\n",
       "    </tr>\n",
       "    <tr>\n",
       "      <td id=\"T_1783b_row4_col0\" class=\"data row4 col0\" >05/01/00</td>\n",
       "      <td id=\"T_1783b_row4_col1\" class=\"data row4 col1\" >Rp 500000.00</td>\n",
       "      <td id=\"T_1783b_row4_col2\" class=\"data row4 col2\" >Rp 150000.00)</td>\n",
       "    </tr>\n",
       "  </tbody>\n",
       "</table>\n"
      ],
      "text/plain": [
       "<pandas.io.formats.style.Styler at 0x19784b66910>"
      ]
     },
     "execution_count": 16,
     "metadata": {},
     "output_type": "execute_result"
    }
   ],
   "source": [
    "laporan.set_caption('Data omset dan Operasional')"
   ]
  },
  {
   "cell_type": "code",
   "execution_count": 17,
   "id": "5098c771",
   "metadata": {},
   "outputs": [
    {
     "data": {
      "text/html": [
       "<style type=\"text/css\">\n",
       "#T_1783b_row2_col1 {\n",
       "  background-color: pink;\n",
       "}\n",
       "#T_1783b_row3_col1 {\n",
       "  background-color: lightgreen;\n",
       "}\n",
       "</style>\n",
       "<table id=\"T_1783b_\">\n",
       "  <caption>Data omset dan Operasional</caption>\n",
       "  <thead>\n",
       "    <tr>\n",
       "      <th class=\"col_heading level0 col0\" >tanggal</th>\n",
       "      <th class=\"col_heading level0 col1\" >omset</th>\n",
       "      <th class=\"col_heading level0 col2\" >operasional</th>\n",
       "    </tr>\n",
       "  </thead>\n",
       "  <tbody>\n",
       "    <tr>\n",
       "      <td id=\"T_1783b_row0_col0\" class=\"data row0 col0\" >01/01/00</td>\n",
       "      <td id=\"T_1783b_row0_col1\" class=\"data row0 col1\" >Rp 1100000.00</td>\n",
       "      <td id=\"T_1783b_row0_col2\" class=\"data row0 col2\" >Rp 50000.00)</td>\n",
       "    </tr>\n",
       "    <tr>\n",
       "      <td id=\"T_1783b_row1_col0\" class=\"data row1 col0\" >02/01/00</td>\n",
       "      <td id=\"T_1783b_row1_col1\" class=\"data row1 col1\" >Rp 800000.00</td>\n",
       "      <td id=\"T_1783b_row1_col2\" class=\"data row1 col2\" >Rp 10000.00)</td>\n",
       "    </tr>\n",
       "    <tr>\n",
       "      <td id=\"T_1783b_row2_col0\" class=\"data row2 col0\" >03/01/00</td>\n",
       "      <td id=\"T_1783b_row2_col1\" class=\"data row2 col1\" >Rp 300000.00</td>\n",
       "      <td id=\"T_1783b_row2_col2\" class=\"data row2 col2\" >Rp 50000.00)</td>\n",
       "    </tr>\n",
       "    <tr>\n",
       "      <td id=\"T_1783b_row3_col0\" class=\"data row3 col0\" >04/01/00</td>\n",
       "      <td id=\"T_1783b_row3_col1\" class=\"data row3 col1\" >Rp 1400000.00</td>\n",
       "      <td id=\"T_1783b_row3_col2\" class=\"data row3 col2\" >Rp 20000.00)</td>\n",
       "    </tr>\n",
       "    <tr>\n",
       "      <td id=\"T_1783b_row4_col0\" class=\"data row4 col0\" >05/01/00</td>\n",
       "      <td id=\"T_1783b_row4_col1\" class=\"data row4 col1\" >Rp 500000.00</td>\n",
       "      <td id=\"T_1783b_row4_col2\" class=\"data row4 col2\" >Rp 150000.00)</td>\n",
       "    </tr>\n",
       "  </tbody>\n",
       "</table>\n"
      ],
      "text/plain": [
       "<pandas.io.formats.style.Styler at 0x19784b66910>"
      ]
     },
     "execution_count": 17,
     "metadata": {},
     "output_type": "execute_result"
    }
   ],
   "source": [
    "laporan.highlight_min('omset', color='pink')\n",
    "laporan.highlight_max('omset', color='lightgreen')"
   ]
  },
  {
   "cell_type": "code",
   "execution_count": 18,
   "id": "1e17ecbb",
   "metadata": {},
   "outputs": [
    {
     "data": {
      "text/html": [
       "<style type=\"text/css\">\n",
       "#T_1783b_row1_col2 {\n",
       "  background-color: lightblue;\n",
       "}\n",
       "#T_1783b_row2_col1 {\n",
       "  background-color: pink;\n",
       "}\n",
       "#T_1783b_row3_col1 {\n",
       "  background-color: lightgreen;\n",
       "}\n",
       "#T_1783b_row4_col2 {\n",
       "  background-color: grey;\n",
       "}\n",
       "</style>\n",
       "<table id=\"T_1783b_\">\n",
       "  <caption>Data omset dan Operasional</caption>\n",
       "  <thead>\n",
       "    <tr>\n",
       "      <th class=\"col_heading level0 col0\" >tanggal</th>\n",
       "      <th class=\"col_heading level0 col1\" >omset</th>\n",
       "      <th class=\"col_heading level0 col2\" >operasional</th>\n",
       "    </tr>\n",
       "  </thead>\n",
       "  <tbody>\n",
       "    <tr>\n",
       "      <td id=\"T_1783b_row0_col0\" class=\"data row0 col0\" >01/01/00</td>\n",
       "      <td id=\"T_1783b_row0_col1\" class=\"data row0 col1\" >Rp 1100000.00</td>\n",
       "      <td id=\"T_1783b_row0_col2\" class=\"data row0 col2\" >Rp 50000.00)</td>\n",
       "    </tr>\n",
       "    <tr>\n",
       "      <td id=\"T_1783b_row1_col0\" class=\"data row1 col0\" >02/01/00</td>\n",
       "      <td id=\"T_1783b_row1_col1\" class=\"data row1 col1\" >Rp 800000.00</td>\n",
       "      <td id=\"T_1783b_row1_col2\" class=\"data row1 col2\" >Rp 10000.00)</td>\n",
       "    </tr>\n",
       "    <tr>\n",
       "      <td id=\"T_1783b_row2_col0\" class=\"data row2 col0\" >03/01/00</td>\n",
       "      <td id=\"T_1783b_row2_col1\" class=\"data row2 col1\" >Rp 300000.00</td>\n",
       "      <td id=\"T_1783b_row2_col2\" class=\"data row2 col2\" >Rp 50000.00)</td>\n",
       "    </tr>\n",
       "    <tr>\n",
       "      <td id=\"T_1783b_row3_col0\" class=\"data row3 col0\" >04/01/00</td>\n",
       "      <td id=\"T_1783b_row3_col1\" class=\"data row3 col1\" >Rp 1400000.00</td>\n",
       "      <td id=\"T_1783b_row3_col2\" class=\"data row3 col2\" >Rp 20000.00)</td>\n",
       "    </tr>\n",
       "    <tr>\n",
       "      <td id=\"T_1783b_row4_col0\" class=\"data row4 col0\" >05/01/00</td>\n",
       "      <td id=\"T_1783b_row4_col1\" class=\"data row4 col1\" >Rp 500000.00</td>\n",
       "      <td id=\"T_1783b_row4_col2\" class=\"data row4 col2\" >Rp 150000.00)</td>\n",
       "    </tr>\n",
       "  </tbody>\n",
       "</table>\n"
      ],
      "text/plain": [
       "<pandas.io.formats.style.Styler at 0x19784b66910>"
      ]
     },
     "execution_count": 18,
     "metadata": {},
     "output_type": "execute_result"
    }
   ],
   "source": [
    "laporan.highlight_min('operasional', color='lightblue')\n",
    "laporan.highlight_max('operasional', color='grey')"
   ]
  },
  {
   "cell_type": "code",
   "execution_count": null,
   "id": "5bca3afc",
   "metadata": {},
   "outputs": [],
   "source": []
  },
  {
   "cell_type": "code",
   "execution_count": null,
   "id": "ca192271",
   "metadata": {},
   "outputs": [],
   "source": []
  },
  {
   "cell_type": "code",
   "execution_count": null,
   "id": "6ff055b4",
   "metadata": {},
   "outputs": [],
   "source": []
  },
  {
   "cell_type": "code",
   "execution_count": null,
   "id": "8f0b7143",
   "metadata": {},
   "outputs": [],
   "source": []
  },
  {
   "cell_type": "code",
   "execution_count": null,
   "id": "f0704cac",
   "metadata": {},
   "outputs": [],
   "source": []
  },
  {
   "cell_type": "code",
   "execution_count": null,
   "id": "a353272c",
   "metadata": {},
   "outputs": [],
   "source": []
  },
  {
   "cell_type": "code",
   "execution_count": null,
   "id": "0d12280e",
   "metadata": {},
   "outputs": [],
   "source": []
  },
  {
   "cell_type": "code",
   "execution_count": null,
   "id": "18c575aa",
   "metadata": {},
   "outputs": [],
   "source": []
  },
  {
   "cell_type": "code",
   "execution_count": null,
   "id": "9b6d78da",
   "metadata": {},
   "outputs": [],
   "source": []
  }
 ],
 "metadata": {
  "kernelspec": {
   "display_name": "Python 3 (ipykernel)",
   "language": "python",
   "name": "python3"
  },
  "language_info": {
   "codemirror_mode": {
    "name": "ipython",
    "version": 3
   },
   "file_extension": ".py",
   "mimetype": "text/x-python",
   "name": "python",
   "nbconvert_exporter": "python",
   "pygments_lexer": "ipython3",
   "version": "3.9.7"
  }
 },
 "nbformat": 4,
 "nbformat_minor": 5
}
