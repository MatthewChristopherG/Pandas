{
 "cells": [
  {
   "cell_type": "markdown",
   "id": "4ed503b7",
   "metadata": {},
   "source": [
    "# Import Modules"
   ]
  },
  {
   "cell_type": "code",
   "execution_count": 2,
   "id": "f19ec142",
   "metadata": {},
   "outputs": [
    {
     "name": "stdout",
     "output_type": "stream",
     "text": [
      "1.3.4\n"
     ]
    }
   ],
   "source": [
    "import pandas as pd\n",
    "\n",
    "print(pd.__version__)"
   ]
  },
  {
   "cell_type": "markdown",
   "id": "3f331782",
   "metadata": {},
   "source": [
    "# Membuat Data Frame dari hasil seleksi Spreadsheet"
   ]
  },
  {
   "cell_type": "code",
   "execution_count": 3,
   "id": "390ac419",
   "metadata": {},
   "outputs": [
    {
     "data": {
      "text/html": [
       "<div>\n",
       "<style scoped>\n",
       "    .dataframe tbody tr th:only-of-type {\n",
       "        vertical-align: middle;\n",
       "    }\n",
       "\n",
       "    .dataframe tbody tr th {\n",
       "        vertical-align: top;\n",
       "    }\n",
       "\n",
       "    .dataframe thead th {\n",
       "        text-align: right;\n",
       "    }\n",
       "</style>\n",
       "<table border=\"1\" class=\"dataframe\">\n",
       "  <thead>\n",
       "    <tr style=\"text-align: right;\">\n",
       "      <th></th>\n",
       "      <th>id_produk</th>\n",
       "      <th>nama_produk</th>\n",
       "      <th>jenis</th>\n",
       "    </tr>\n",
       "  </thead>\n",
       "  <tbody>\n",
       "    <tr>\n",
       "      <th>0</th>\n",
       "      <td>P-001</td>\n",
       "      <td>Nomadic's Fried Rice</td>\n",
       "      <td>Makanan</td>\n",
       "    </tr>\n",
       "    <tr>\n",
       "      <th>1</th>\n",
       "      <td>P-002</td>\n",
       "      <td>Thai Grilled Chicken</td>\n",
       "      <td>Makanan</td>\n",
       "    </tr>\n",
       "    <tr>\n",
       "      <th>2</th>\n",
       "      <td>P-003</td>\n",
       "      <td>Menchi Katsu</td>\n",
       "      <td>Makanan</td>\n",
       "    </tr>\n",
       "    <tr>\n",
       "      <th>3</th>\n",
       "      <td>P-004</td>\n",
       "      <td>Aglio E Olio</td>\n",
       "      <td>Makanan</td>\n",
       "    </tr>\n",
       "    <tr>\n",
       "      <th>4</th>\n",
       "      <td>P-005</td>\n",
       "      <td>Carbonara</td>\n",
       "      <td>Makanan</td>\n",
       "    </tr>\n",
       "    <tr>\n",
       "      <th>5</th>\n",
       "      <td>P-006</td>\n",
       "      <td>Passion For Paris</td>\n",
       "      <td>Minuman</td>\n",
       "    </tr>\n",
       "    <tr>\n",
       "      <th>6</th>\n",
       "      <td>P-007</td>\n",
       "      <td>Osaka Breeze</td>\n",
       "      <td>Minuman</td>\n",
       "    </tr>\n",
       "    <tr>\n",
       "      <th>7</th>\n",
       "      <td>P-008</td>\n",
       "      <td>Tonico De Berry</td>\n",
       "      <td>Minuman</td>\n",
       "    </tr>\n",
       "    <tr>\n",
       "      <th>8</th>\n",
       "      <td>P-009</td>\n",
       "      <td>Hot Capuccino</td>\n",
       "      <td>Minuman</td>\n",
       "    </tr>\n",
       "    <tr>\n",
       "      <th>9</th>\n",
       "      <td>P-010</td>\n",
       "      <td>Ice Latte</td>\n",
       "      <td>Minuman</td>\n",
       "    </tr>\n",
       "  </tbody>\n",
       "</table>\n",
       "</div>"
      ],
      "text/plain": [
       "  id_produk           nama_produk    jenis\n",
       "0     P-001  Nomadic's Fried Rice  Makanan\n",
       "1     P-002  Thai Grilled Chicken  Makanan\n",
       "2     P-003          Menchi Katsu  Makanan\n",
       "3     P-004          Aglio E Olio  Makanan\n",
       "4     P-005             Carbonara  Makanan\n",
       "5     P-006     Passion For Paris  Minuman\n",
       "6     P-007          Osaka Breeze  Minuman\n",
       "7     P-008       Tonico De Berry  Minuman\n",
       "8     P-009         Hot Capuccino  Minuman\n",
       "9     P-010             Ice Latte  Minuman"
      ]
     },
     "execution_count": 3,
     "metadata": {},
     "output_type": "execute_result"
    }
   ],
   "source": [
    "df = pd.read_clipboard() #baris pertama akan selalu digunakan sebagai nama kolom\n",
    "df"
   ]
  },
  {
   "cell_type": "code",
   "execution_count": 4,
   "id": "f9ef7ba9",
   "metadata": {},
   "outputs": [
    {
     "data": {
      "text/html": [
       "<div>\n",
       "<style scoped>\n",
       "    .dataframe tbody tr th:only-of-type {\n",
       "        vertical-align: middle;\n",
       "    }\n",
       "\n",
       "    .dataframe tbody tr th {\n",
       "        vertical-align: top;\n",
       "    }\n",
       "\n",
       "    .dataframe thead th {\n",
       "        text-align: right;\n",
       "    }\n",
       "</style>\n",
       "<table border=\"1\" class=\"dataframe\">\n",
       "  <thead>\n",
       "    <tr style=\"text-align: right;\">\n",
       "      <th></th>\n",
       "      <th>P-003</th>\n",
       "      <th>Menchi Katsu</th>\n",
       "      <th>Makanan</th>\n",
       "    </tr>\n",
       "  </thead>\n",
       "  <tbody>\n",
       "    <tr>\n",
       "      <th>0</th>\n",
       "      <td>P-004</td>\n",
       "      <td>Aglio E Olio</td>\n",
       "      <td>Makanan</td>\n",
       "    </tr>\n",
       "    <tr>\n",
       "      <th>1</th>\n",
       "      <td>P-005</td>\n",
       "      <td>Carbonara</td>\n",
       "      <td>Makanan</td>\n",
       "    </tr>\n",
       "    <tr>\n",
       "      <th>2</th>\n",
       "      <td>P-006</td>\n",
       "      <td>Passion For Paris</td>\n",
       "      <td>Minuman</td>\n",
       "    </tr>\n",
       "    <tr>\n",
       "      <th>3</th>\n",
       "      <td>P-007</td>\n",
       "      <td>Osaka Breeze</td>\n",
       "      <td>Minuman</td>\n",
       "    </tr>\n",
       "    <tr>\n",
       "      <th>4</th>\n",
       "      <td>P-008</td>\n",
       "      <td>Tonico De Berry</td>\n",
       "      <td>Minuman</td>\n",
       "    </tr>\n",
       "    <tr>\n",
       "      <th>5</th>\n",
       "      <td>P-009</td>\n",
       "      <td>Hot Capuccino</td>\n",
       "      <td>Minuman</td>\n",
       "    </tr>\n",
       "  </tbody>\n",
       "</table>\n",
       "</div>"
      ],
      "text/plain": [
       "   P-003       Menchi Katsu  Makanan\n",
       "0  P-004       Aglio E Olio  Makanan\n",
       "1  P-005          Carbonara  Makanan\n",
       "2  P-006  Passion For Paris  Minuman\n",
       "3  P-007       Osaka Breeze  Minuman\n",
       "4  P-008    Tonico De Berry  Minuman\n",
       "5  P-009      Hot Capuccino  Minuman"
      ]
     },
     "execution_count": 4,
     "metadata": {},
     "output_type": "execute_result"
    }
   ],
   "source": [
    "df = pd.read_clipboard() #baris pertama akan selalu digunakan sebagai nama kolom, tergantung yg kalian pilih.\n",
    "df"
   ]
  }
 ],
 "metadata": {
  "kernelspec": {
   "display_name": "Python 3 (ipykernel)",
   "language": "python",
   "name": "python3"
  },
  "language_info": {
   "codemirror_mode": {
    "name": "ipython",
    "version": 3
   },
   "file_extension": ".py",
   "mimetype": "text/x-python",
   "name": "python",
   "nbconvert_exporter": "python",
   "pygments_lexer": "ipython3",
   "version": "3.9.7"
  }
 },
 "nbformat": 4,
 "nbformat_minor": 5
}
