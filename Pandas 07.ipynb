{
 "cells": [
  {
   "cell_type": "markdown",
   "id": "c683e996",
   "metadata": {},
   "source": [
    "# 07: Menghapus (drop) missinng values (NaN)"
   ]
  },
  {
   "cell_type": "markdown",
   "id": "b1e49a68",
   "metadata": {},
   "source": [
    "Import Modules"
   ]
  },
  {
   "cell_type": "code",
   "execution_count": 1,
   "id": "7f181f47",
   "metadata": {},
   "outputs": [
    {
     "name": "stdout",
     "output_type": "stream",
     "text": [
      "1.3.4\n"
     ]
    }
   ],
   "source": [
    "import pandas as pd \n",
    "\n",
    "print(pd.__version__)"
   ]
  },
  {
   "cell_type": "markdown",
   "id": "3b90d767",
   "metadata": {},
   "source": [
    "Pesiapan Data Frame"
   ]
  },
  {
   "cell_type": "code",
   "execution_count": 4,
   "id": "13de2dd4",
   "metadata": {},
   "outputs": [
    {
     "name": "stderr",
     "output_type": "stream",
     "text": [
      "D:\\Marnat\\KULIAH\\Semester 2\\Statistika Bisnis\\Annaconda\\lib\\site-packages\\pandas\\util\\__init__.py:15: FutureWarning: pandas.util.testing is deprecated. Use the functions in the public API at pandas.testing instead.\n",
      "  import pandas.util.testing\n"
     ]
    },
    {
     "data": {
      "text/html": [
       "<div>\n",
       "<style scoped>\n",
       "    .dataframe tbody tr th:only-of-type {\n",
       "        vertical-align: middle;\n",
       "    }\n",
       "\n",
       "    .dataframe tbody tr th {\n",
       "        vertical-align: top;\n",
       "    }\n",
       "\n",
       "    .dataframe thead th {\n",
       "        text-align: right;\n",
       "    }\n",
       "</style>\n",
       "<table border=\"1\" class=\"dataframe\">\n",
       "  <thead>\n",
       "    <tr style=\"text-align: right;\">\n",
       "      <th></th>\n",
       "      <th>index</th>\n",
       "      <th>A</th>\n",
       "      <th>B</th>\n",
       "      <th>C</th>\n",
       "      <th>D</th>\n",
       "    </tr>\n",
       "  </thead>\n",
       "  <tbody>\n",
       "    <tr>\n",
       "      <th>0</th>\n",
       "      <td>Z7aaGaTJRj</td>\n",
       "      <td>1.383679</td>\n",
       "      <td>-0.845513</td>\n",
       "      <td>0.455925</td>\n",
       "      <td>-0.081422</td>\n",
       "    </tr>\n",
       "    <tr>\n",
       "      <th>1</th>\n",
       "      <td>zmXYSin8XO</td>\n",
       "      <td>0.893122</td>\n",
       "      <td>1.121792</td>\n",
       "      <td>-1.450502</td>\n",
       "      <td>-0.679017</td>\n",
       "    </tr>\n",
       "    <tr>\n",
       "      <th>2</th>\n",
       "      <td>BVGUuyr1i3</td>\n",
       "      <td>-1.857229</td>\n",
       "      <td>-0.137648</td>\n",
       "      <td>1.564428</td>\n",
       "      <td>1.186769</td>\n",
       "    </tr>\n",
       "    <tr>\n",
       "      <th>3</th>\n",
       "      <td>D4yh9PpF1P</td>\n",
       "      <td>-0.332547</td>\n",
       "      <td>0.663821</td>\n",
       "      <td>-0.597775</td>\n",
       "      <td>0.559310</td>\n",
       "    </tr>\n",
       "    <tr>\n",
       "      <th>4</th>\n",
       "      <td>TyUvR8Czle</td>\n",
       "      <td>0.175891</td>\n",
       "      <td>1.285657</td>\n",
       "      <td>2.438070</td>\n",
       "      <td>1.344851</td>\n",
       "    </tr>\n",
       "  </tbody>\n",
       "</table>\n",
       "</div>"
      ],
      "text/plain": [
       "        index         A         B         C         D\n",
       "0  Z7aaGaTJRj  1.383679 -0.845513  0.455925 -0.081422\n",
       "1  zmXYSin8XO  0.893122  1.121792 -1.450502 -0.679017\n",
       "2  BVGUuyr1i3 -1.857229 -0.137648  1.564428  1.186769\n",
       "3  D4yh9PpF1P -0.332547  0.663821 -0.597775  0.559310\n",
       "4  TyUvR8Czle  0.175891  1.285657  2.438070  1.344851"
      ]
     },
     "execution_count": 4,
     "metadata": {},
     "output_type": "execute_result"
    }
   ],
   "source": [
    "df = pd.util.testing.makeMissingDataframe().reset_index()\n",
    "df.head()"
   ]
  },
  {
   "cell_type": "code",
   "execution_count": 5,
   "id": "a325fc0f",
   "metadata": {},
   "outputs": [
    {
     "data": {
      "text/html": [
       "<div>\n",
       "<style scoped>\n",
       "    .dataframe tbody tr th:only-of-type {\n",
       "        vertical-align: middle;\n",
       "    }\n",
       "\n",
       "    .dataframe tbody tr th {\n",
       "        vertical-align: top;\n",
       "    }\n",
       "\n",
       "    .dataframe thead th {\n",
       "        text-align: right;\n",
       "    }\n",
       "</style>\n",
       "<table border=\"1\" class=\"dataframe\">\n",
       "  <thead>\n",
       "    <tr style=\"text-align: right;\">\n",
       "      <th></th>\n",
       "      <th>Z</th>\n",
       "      <th>A</th>\n",
       "      <th>B</th>\n",
       "      <th>C</th>\n",
       "      <th>D</th>\n",
       "    </tr>\n",
       "  </thead>\n",
       "  <tbody>\n",
       "    <tr>\n",
       "      <th>0</th>\n",
       "      <td>Z7aaGaTJRj</td>\n",
       "      <td>1.383679</td>\n",
       "      <td>-0.845513</td>\n",
       "      <td>0.455925</td>\n",
       "      <td>-0.081422</td>\n",
       "    </tr>\n",
       "    <tr>\n",
       "      <th>1</th>\n",
       "      <td>zmXYSin8XO</td>\n",
       "      <td>0.893122</td>\n",
       "      <td>1.121792</td>\n",
       "      <td>-1.450502</td>\n",
       "      <td>-0.679017</td>\n",
       "    </tr>\n",
       "    <tr>\n",
       "      <th>2</th>\n",
       "      <td>BVGUuyr1i3</td>\n",
       "      <td>-1.857229</td>\n",
       "      <td>-0.137648</td>\n",
       "      <td>1.564428</td>\n",
       "      <td>1.186769</td>\n",
       "    </tr>\n",
       "    <tr>\n",
       "      <th>3</th>\n",
       "      <td>D4yh9PpF1P</td>\n",
       "      <td>-0.332547</td>\n",
       "      <td>0.663821</td>\n",
       "      <td>-0.597775</td>\n",
       "      <td>0.559310</td>\n",
       "    </tr>\n",
       "    <tr>\n",
       "      <th>4</th>\n",
       "      <td>TyUvR8Czle</td>\n",
       "      <td>0.175891</td>\n",
       "      <td>1.285657</td>\n",
       "      <td>2.438070</td>\n",
       "      <td>1.344851</td>\n",
       "    </tr>\n",
       "  </tbody>\n",
       "</table>\n",
       "</div>"
      ],
      "text/plain": [
       "            Z         A         B         C         D\n",
       "0  Z7aaGaTJRj  1.383679 -0.845513  0.455925 -0.081422\n",
       "1  zmXYSin8XO  0.893122  1.121792 -1.450502 -0.679017\n",
       "2  BVGUuyr1i3 -1.857229 -0.137648  1.564428  1.186769\n",
       "3  D4yh9PpF1P -0.332547  0.663821 -0.597775  0.559310\n",
       "4  TyUvR8Czle  0.175891  1.285657  2.438070  1.344851"
      ]
     },
     "execution_count": 5,
     "metadata": {},
     "output_type": "execute_result"
    }
   ],
   "source": [
    "df = df.rename(columns={'index':'Z'})\n",
    "df.head()"
   ]
  },
  {
   "cell_type": "code",
   "execution_count": 6,
   "id": "b119380c",
   "metadata": {},
   "outputs": [],
   "source": [
    "df_backup = df.copy(deep=True)"
   ]
  },
  {
   "cell_type": "markdown",
   "id": "98368a7c",
   "metadata": {},
   "source": [
    "Menghapus (drop) setiap kolom yang mengandung missing values"
   ]
  },
  {
   "cell_type": "code",
   "execution_count": 7,
   "id": "5b70e040",
   "metadata": {},
   "outputs": [
    {
     "data": {
      "text/html": [
       "<div>\n",
       "<style scoped>\n",
       "    .dataframe tbody tr th:only-of-type {\n",
       "        vertical-align: middle;\n",
       "    }\n",
       "\n",
       "    .dataframe tbody tr th {\n",
       "        vertical-align: top;\n",
       "    }\n",
       "\n",
       "    .dataframe thead th {\n",
       "        text-align: right;\n",
       "    }\n",
       "</style>\n",
       "<table border=\"1\" class=\"dataframe\">\n",
       "  <thead>\n",
       "    <tr style=\"text-align: right;\">\n",
       "      <th></th>\n",
       "      <th>Z</th>\n",
       "    </tr>\n",
       "  </thead>\n",
       "  <tbody>\n",
       "    <tr>\n",
       "      <th>0</th>\n",
       "      <td>Z7aaGaTJRj</td>\n",
       "    </tr>\n",
       "    <tr>\n",
       "      <th>1</th>\n",
       "      <td>zmXYSin8XO</td>\n",
       "    </tr>\n",
       "    <tr>\n",
       "      <th>2</th>\n",
       "      <td>BVGUuyr1i3</td>\n",
       "    </tr>\n",
       "    <tr>\n",
       "      <th>3</th>\n",
       "      <td>D4yh9PpF1P</td>\n",
       "    </tr>\n",
       "    <tr>\n",
       "      <th>4</th>\n",
       "      <td>TyUvR8Czle</td>\n",
       "    </tr>\n",
       "  </tbody>\n",
       "</table>\n",
       "</div>"
      ],
      "text/plain": [
       "            Z\n",
       "0  Z7aaGaTJRj\n",
       "1  zmXYSin8XO\n",
       "2  BVGUuyr1i3\n",
       "3  D4yh9PpF1P\n",
       "4  TyUvR8Czle"
      ]
     },
     "execution_count": 7,
     "metadata": {},
     "output_type": "execute_result"
    }
   ],
   "source": [
    "df = df.dropna(axis='columns')\n",
    "df.head()"
   ]
  },
  {
   "cell_type": "code",
   "execution_count": null,
   "id": "1ca64e5e",
   "metadata": {},
   "outputs": [],
   "source": [
    "Menghapus (drop) setiap baris yang mengandung missing values"
   ]
  },
  {
   "cell_type": "code",
   "execution_count": 8,
   "id": "e71dd048",
   "metadata": {},
   "outputs": [
    {
     "data": {
      "text/html": [
       "<div>\n",
       "<style scoped>\n",
       "    .dataframe tbody tr th:only-of-type {\n",
       "        vertical-align: middle;\n",
       "    }\n",
       "\n",
       "    .dataframe tbody tr th {\n",
       "        vertical-align: top;\n",
       "    }\n",
       "\n",
       "    .dataframe thead th {\n",
       "        text-align: right;\n",
       "    }\n",
       "</style>\n",
       "<table border=\"1\" class=\"dataframe\">\n",
       "  <thead>\n",
       "    <tr style=\"text-align: right;\">\n",
       "      <th></th>\n",
       "      <th>Z</th>\n",
       "      <th>A</th>\n",
       "      <th>B</th>\n",
       "      <th>C</th>\n",
       "      <th>D</th>\n",
       "    </tr>\n",
       "  </thead>\n",
       "  <tbody>\n",
       "    <tr>\n",
       "      <th>0</th>\n",
       "      <td>Z7aaGaTJRj</td>\n",
       "      <td>1.383679</td>\n",
       "      <td>-0.845513</td>\n",
       "      <td>0.455925</td>\n",
       "      <td>-0.081422</td>\n",
       "    </tr>\n",
       "    <tr>\n",
       "      <th>1</th>\n",
       "      <td>zmXYSin8XO</td>\n",
       "      <td>0.893122</td>\n",
       "      <td>1.121792</td>\n",
       "      <td>-1.450502</td>\n",
       "      <td>-0.679017</td>\n",
       "    </tr>\n",
       "    <tr>\n",
       "      <th>2</th>\n",
       "      <td>BVGUuyr1i3</td>\n",
       "      <td>-1.857229</td>\n",
       "      <td>-0.137648</td>\n",
       "      <td>1.564428</td>\n",
       "      <td>1.186769</td>\n",
       "    </tr>\n",
       "    <tr>\n",
       "      <th>3</th>\n",
       "      <td>D4yh9PpF1P</td>\n",
       "      <td>-0.332547</td>\n",
       "      <td>0.663821</td>\n",
       "      <td>-0.597775</td>\n",
       "      <td>0.559310</td>\n",
       "    </tr>\n",
       "    <tr>\n",
       "      <th>4</th>\n",
       "      <td>TyUvR8Czle</td>\n",
       "      <td>0.175891</td>\n",
       "      <td>1.285657</td>\n",
       "      <td>2.438070</td>\n",
       "      <td>1.344851</td>\n",
       "    </tr>\n",
       "  </tbody>\n",
       "</table>\n",
       "</div>"
      ],
      "text/plain": [
       "            Z         A         B         C         D\n",
       "0  Z7aaGaTJRj  1.383679 -0.845513  0.455925 -0.081422\n",
       "1  zmXYSin8XO  0.893122  1.121792 -1.450502 -0.679017\n",
       "2  BVGUuyr1i3 -1.857229 -0.137648  1.564428  1.186769\n",
       "3  D4yh9PpF1P -0.332547  0.663821 -0.597775  0.559310\n",
       "4  TyUvR8Czle  0.175891  1.285657  2.438070  1.344851"
      ]
     },
     "execution_count": 8,
     "metadata": {},
     "output_type": "execute_result"
    }
   ],
   "source": [
    "df = df_backup.copy(deep=True)\n",
    "df = df.dropna(axis='rows')\n",
    "df.head()"
   ]
  },
  {
   "cell_type": "markdown",
   "id": "077274d2",
   "metadata": {},
   "source": [
    "Pesentase missing values untuk tiap kolom"
   ]
  },
  {
   "cell_type": "code",
   "execution_count": 9,
   "id": "553a28d4",
   "metadata": {},
   "outputs": [
    {
     "data": {
      "text/plain": [
       "Z    0.000000\n",
       "A    0.066667\n",
       "B    0.133333\n",
       "C    0.066667\n",
       "D    0.133333\n",
       "dtype: float64"
      ]
     },
     "execution_count": 9,
     "metadata": {},
     "output_type": "execute_result"
    }
   ],
   "source": [
    "df = df_backup.copy(deep=True)\n",
    "df.isna().mean()"
   ]
  },
  {
   "cell_type": "markdown",
   "id": "ff5d3662",
   "metadata": {},
   "source": [
    "Menghapus (drop) setiap kolom yang mengandung missing values berdasarkan threshold"
   ]
  },
  {
   "cell_type": "code",
   "execution_count": 10,
   "id": "21169fe7",
   "metadata": {},
   "outputs": [
    {
     "data": {
      "text/html": [
       "<div>\n",
       "<style scoped>\n",
       "    .dataframe tbody tr th:only-of-type {\n",
       "        vertical-align: middle;\n",
       "    }\n",
       "\n",
       "    .dataframe tbody tr th {\n",
       "        vertical-align: top;\n",
       "    }\n",
       "\n",
       "    .dataframe thead th {\n",
       "        text-align: right;\n",
       "    }\n",
       "</style>\n",
       "<table border=\"1\" class=\"dataframe\">\n",
       "  <thead>\n",
       "    <tr style=\"text-align: right;\">\n",
       "      <th></th>\n",
       "      <th>Z</th>\n",
       "      <th>A</th>\n",
       "      <th>C</th>\n",
       "    </tr>\n",
       "  </thead>\n",
       "  <tbody>\n",
       "    <tr>\n",
       "      <th>0</th>\n",
       "      <td>Z7aaGaTJRj</td>\n",
       "      <td>1.383679</td>\n",
       "      <td>0.455925</td>\n",
       "    </tr>\n",
       "    <tr>\n",
       "      <th>1</th>\n",
       "      <td>zmXYSin8XO</td>\n",
       "      <td>0.893122</td>\n",
       "      <td>-1.450502</td>\n",
       "    </tr>\n",
       "    <tr>\n",
       "      <th>2</th>\n",
       "      <td>BVGUuyr1i3</td>\n",
       "      <td>-1.857229</td>\n",
       "      <td>1.564428</td>\n",
       "    </tr>\n",
       "    <tr>\n",
       "      <th>3</th>\n",
       "      <td>D4yh9PpF1P</td>\n",
       "      <td>-0.332547</td>\n",
       "      <td>-0.597775</td>\n",
       "    </tr>\n",
       "    <tr>\n",
       "      <th>4</th>\n",
       "      <td>TyUvR8Czle</td>\n",
       "      <td>0.175891</td>\n",
       "      <td>2.438070</td>\n",
       "    </tr>\n",
       "  </tbody>\n",
       "</table>\n",
       "</div>"
      ],
      "text/plain": [
       "            Z         A         C\n",
       "0  Z7aaGaTJRj  1.383679  0.455925\n",
       "1  zmXYSin8XO  0.893122 -1.450502\n",
       "2  BVGUuyr1i3 -1.857229  1.564428\n",
       "3  D4yh9PpF1P -0.332547 -0.597775\n",
       "4  TyUvR8Czle  0.175891  2.438070"
      ]
     },
     "execution_count": 10,
     "metadata": {},
     "output_type": "execute_result"
    }
   ],
   "source": [
    "treshold = len(df) * 0.9\n",
    "df = df.dropna(thresh=treshold, axis='columns')\n",
    "df.head()"
   ]
  }
 ],
 "metadata": {
  "kernelspec": {
   "display_name": "Python 3 (ipykernel)",
   "language": "python",
   "name": "python3"
  },
  "language_info": {
   "codemirror_mode": {
    "name": "ipython",
    "version": 3
   },
   "file_extension": ".py",
   "mimetype": "text/x-python",
   "name": "python",
   "nbconvert_exporter": "python",
   "pygments_lexer": "ipython3",
   "version": "3.9.7"
  }
 },
 "nbformat": 4,
 "nbformat_minor": 5
}
